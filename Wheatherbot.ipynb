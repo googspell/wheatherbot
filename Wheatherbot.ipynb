{
  "cells": [
    {
      "cell_type": "code",
      "execution_count": null,
      "metadata": {
        "id": "pfxhTzLbbqoe"
      },
      "outputs": [],
      "source": [
        "#!pip3 install pytelegrambotapi\n",
        "import telebot\n",
        "from bs4 import BeautifulSoup\n",
        "import requests\n",
        "\n",
        "#скрипт по созданию телеграм бота,который на сообщение с городом отправляет текущую погоду\n",
        "#данные используються с сайта https://pogoda.mail.ru/\n",
        "#для работы бота требуется указать правильное название города строчными буквами. Например для zurich нужно указать tsurikh,вместо стандартного moscow нужно указать moskva\n",
        "#наблюдаются некоторые погрешности с полнотой вывода информации \n",
        "\n",
        "#наши глобальные переменные\n",
        "api_key = '' #ваш апи бота которые получаете через fatherbota\n",
        "url = 'https://pogoda.mail.ru/prognoz/'\n",
        "\n",
        "#функция получает html код нашего url\n",
        "def get_html(url):\n",
        "    r = requests.get(url)\n",
        "    return r.text \n",
        "\n",
        "#функция обрабытвает наш html код и вытаскивает нужные данные при этом обрабатываем на переносы,пробелы,лишние символы\n",
        "def get_page_data (html):\n",
        "  soup = BeautifulSoup(html,'lxml')\n",
        "  div = soup.find('div',class_='wrapper').find('div',class_='information block js-city_one').find('div',class_='information__content').find('div',class_='information__content__wrapper information__content__wrapper_left').text\n",
        "  html_string=[]\n",
        "  for ele in str(div).split(\"\\n\"):\n",
        "    html_string.append(ele.strip())\n",
        "    html_string = list(filter(None, html_string))\n",
        "    s = str(html_string ).strip('[]')\n",
        "    s= s.replace(\"'\", \"\")\n",
        "    s = s[:-3]\n",
        "  return s\n",
        "\n",
        "\n",
        "#подключаемся к боту,указываем команду и ответ на нее\n",
        "bot = telebot.TeleBot(api_key)\n",
        "@bot.message_handler(commands=['go'])\n",
        "def hello(message):\n",
        "   bot.send_message(message.chat.id,'Hi что бы узнать текущую погоду введите название города в формате \"bucharest\"')\n",
        "\n",
        "\n",
        "#получаем ответ пользователя и возращаем результат при этом использую проверку на строчные буквы\n",
        "@bot.message_handler(content_types=['text'])\n",
        "def weather(message):\n",
        "  if message.text.lower() == message.text:\n",
        "    bot.send_message(message.chat.id,get_page_data(get_html(url+message.text)))\n",
        "  else:\n",
        "    bot.send_message(message.chat.id,'указано же.. город в формате \"bucharest\"')\n",
        "\n",
        "#запуск бота в работу\n",
        "bot.polling()\n"
      ]
    }
  ],
  "metadata": {
    "colab": {
      "provenance": [],
      "authorship_tag": "ABX9TyMK0eS3T8eJrU5UbA5wcQ/M"
    },
    "kernelspec": {
      "display_name": "Python 3",
      "name": "python3"
    },
    "language_info": {
      "name": "python"
    }
  },
  "nbformat": 4,
  "nbformat_minor": 0
}